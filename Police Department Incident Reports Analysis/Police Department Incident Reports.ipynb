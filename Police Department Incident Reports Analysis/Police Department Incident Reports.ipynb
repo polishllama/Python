{
 "cells": [
  {
   "cell_type": "markdown",
   "id": "533f799c",
   "metadata": {},
   "source": [
    "For this project, we're developing a predictive model to forecast potential crime hotspots. This initiative aims to demonstrate the simplicity of creating predictive policing tools and to underscore the associated risks. Such models are increasingly being utilized by law enforcement agencies across the United States. Considering the universal potential for bias and the disproportionately higher likelihood of people of color being fatally encountered by police, the adoption of these models is a concerning trend."
   ]
  },
  {
   "cell_type": "markdown",
   "id": "4a241a04",
   "metadata": {},
   "source": [
    "**Project Overview:**\n",
    "\n",
    "**Objective**: To create a predictive policing model to identify probable crime locations.<br/>\n",
    "**Significance**: The project highlights both the ease of model creation and the inherent dangers, particularly in exacerbating systemic biases.<br/>\n",
    "**Data Source**: The dataset for this analysis is sourced from the City of San Francisco's __[open data](https://datasf.org/opendata/)__ initiative, a valuable asset for data scientists focusing on public policy. The availability of such public, machine-readable data sets from more cities would be a significant step forward. <br/>\n",
    "This project serves as a critical examination of how data science, while a powerful tool, can unintentionally perpetuate and amplify societal issues if not approached with caution."
   ]
  },
  {
   "cell_type": "code",
   "execution_count": null,
   "id": "336c3b07",
   "metadata": {},
   "outputs": [],
   "source": [
    "#Import Libraries\n",
    "import pandas as pd\n",
    "import matplotlib.pyplot as plt\n",
    "import seaborn as sns\n",
    "from sklearn.model_selection import train_test_split\n",
    "from sklearn.preprocessing import OneHotEncoder\n",
    "from sklearn.linear_model import LinearRegression\n",
    "from sklearn.ensemble import RandomForestRegressor\n",
    "from sklearn.neighbors import KNeighborsRegressor\n",
    "from xgboost import XGBRegressor\n",
    "from sklearn.neural_network import MLPRegressor\n",
    "from sklearn.metrics import mean_squared_error, r2_score\n",
    "from math import sqrt\n",
    "import numpy as np"
   ]
  },
  {
   "cell_type": "markdown",
   "id": "e4b45c63",
   "metadata": {},
   "source": [
    "The crime data for 2022 looks like this:"
   ]
  },
  {
   "cell_type": "code",
   "execution_count": 2,
   "id": "8a60f3db",
   "metadata": {},
   "outputs": [
    {
     "data": {
      "text/html": [
       "<div>\n",
       "<style scoped>\n",
       "    .dataframe tbody tr th:only-of-type {\n",
       "        vertical-align: middle;\n",
       "    }\n",
       "\n",
       "    .dataframe tbody tr th {\n",
       "        vertical-align: top;\n",
       "    }\n",
       "\n",
       "    .dataframe thead th {\n",
       "        text-align: right;\n",
       "    }\n",
       "</style>\n",
       "<table border=\"1\" class=\"dataframe\">\n",
       "  <thead>\n",
       "    <tr style=\"text-align: right;\">\n",
       "      <th></th>\n",
       "      <th>Incident Datetime</th>\n",
       "      <th>Incident Date</th>\n",
       "      <th>Incident Time</th>\n",
       "      <th>Incident Year</th>\n",
       "      <th>Incident Day of Week</th>\n",
       "      <th>Report Datetime</th>\n",
       "      <th>Row ID</th>\n",
       "      <th>Incident ID</th>\n",
       "      <th>Incident Number</th>\n",
       "      <th>CAD Number</th>\n",
       "      <th>...</th>\n",
       "      <th>Resolution</th>\n",
       "      <th>Intersection</th>\n",
       "      <th>CNN</th>\n",
       "      <th>Police District</th>\n",
       "      <th>Analysis Neighborhood</th>\n",
       "      <th>Supervisor District</th>\n",
       "      <th>Supervisor District 2012</th>\n",
       "      <th>Latitude</th>\n",
       "      <th>Longitude</th>\n",
       "      <th>Point</th>\n",
       "    </tr>\n",
       "  </thead>\n",
       "  <tbody>\n",
       "    <tr>\n",
       "      <th>0</th>\n",
       "      <td>2022/01/01 12:00:00 AM</td>\n",
       "      <td>2022/01/01</td>\n",
       "      <td>00:00</td>\n",
       "      <td>2022</td>\n",
       "      <td>Saturday</td>\n",
       "      <td>2022/03/30 04:26:00 PM</td>\n",
       "      <td>115154309320</td>\n",
       "      <td>1151543</td>\n",
       "      <td>226052453</td>\n",
       "      <td>NaN</td>\n",
       "      <td>...</td>\n",
       "      <td>Open or Active</td>\n",
       "      <td>NaN</td>\n",
       "      <td>NaN</td>\n",
       "      <td>Taraval</td>\n",
       "      <td>NaN</td>\n",
       "      <td>NaN</td>\n",
       "      <td>NaN</td>\n",
       "      <td>NaN</td>\n",
       "      <td>NaN</td>\n",
       "      <td>NaN</td>\n",
       "    </tr>\n",
       "    <tr>\n",
       "      <th>1</th>\n",
       "      <td>2022/01/01 12:00:00 AM</td>\n",
       "      <td>2022/01/01</td>\n",
       "      <td>00:00</td>\n",
       "      <td>2022</td>\n",
       "      <td>Saturday</td>\n",
       "      <td>2022/04/01 12:29:00 AM</td>\n",
       "      <td>115152709320</td>\n",
       "      <td>1151527</td>\n",
       "      <td>226052522</td>\n",
       "      <td>NaN</td>\n",
       "      <td>...</td>\n",
       "      <td>Open or Active</td>\n",
       "      <td>NaN</td>\n",
       "      <td>NaN</td>\n",
       "      <td>Tenderloin</td>\n",
       "      <td>NaN</td>\n",
       "      <td>NaN</td>\n",
       "      <td>NaN</td>\n",
       "      <td>NaN</td>\n",
       "      <td>NaN</td>\n",
       "      <td>NaN</td>\n",
       "    </tr>\n",
       "    <tr>\n",
       "      <th>2</th>\n",
       "      <td>2022/01/01 12:00:00 AM</td>\n",
       "      <td>2022/01/01</td>\n",
       "      <td>00:00</td>\n",
       "      <td>2022</td>\n",
       "      <td>Saturday</td>\n",
       "      <td>2023/03/27 03:04:00 PM</td>\n",
       "      <td>125850110125</td>\n",
       "      <td>1258501</td>\n",
       "      <td>230213499</td>\n",
       "      <td>230861873.0</td>\n",
       "      <td>...</td>\n",
       "      <td>Open or Active</td>\n",
       "      <td>LEAVENWORTH ST \\ TURK ST</td>\n",
       "      <td>24934000.0</td>\n",
       "      <td>Tenderloin</td>\n",
       "      <td>Tenderloin</td>\n",
       "      <td>5.0</td>\n",
       "      <td>6.0</td>\n",
       "      <td>37.782794</td>\n",
       "      <td>-122.414054</td>\n",
       "      <td>POINT (-122.41405376568504 37.78279444506034)</td>\n",
       "    </tr>\n",
       "  </tbody>\n",
       "</table>\n",
       "<p>3 rows × 27 columns</p>\n",
       "</div>"
      ],
      "text/plain": [
       "        Incident Datetime Incident Date Incident Time  Incident Year  \\\n",
       "0  2022/01/01 12:00:00 AM    2022/01/01         00:00           2022   \n",
       "1  2022/01/01 12:00:00 AM    2022/01/01         00:00           2022   \n",
       "2  2022/01/01 12:00:00 AM    2022/01/01         00:00           2022   \n",
       "\n",
       "  Incident Day of Week         Report Datetime        Row ID  Incident ID  \\\n",
       "0             Saturday  2022/03/30 04:26:00 PM  115154309320      1151543   \n",
       "1             Saturday  2022/04/01 12:29:00 AM  115152709320      1151527   \n",
       "2             Saturday  2023/03/27 03:04:00 PM  125850110125      1258501   \n",
       "\n",
       "   Incident Number   CAD Number  ...      Resolution  \\\n",
       "0        226052453          NaN  ...  Open or Active   \n",
       "1        226052522          NaN  ...  Open or Active   \n",
       "2        230213499  230861873.0  ...  Open or Active   \n",
       "\n",
       "               Intersection         CNN  Police District  \\\n",
       "0                       NaN         NaN          Taraval   \n",
       "1                       NaN         NaN       Tenderloin   \n",
       "2  LEAVENWORTH ST \\ TURK ST  24934000.0       Tenderloin   \n",
       "\n",
       "  Analysis Neighborhood Supervisor District Supervisor District 2012  \\\n",
       "0                   NaN                 NaN                      NaN   \n",
       "1                   NaN                 NaN                      NaN   \n",
       "2            Tenderloin                 5.0                      6.0   \n",
       "\n",
       "    Latitude   Longitude                                          Point  \n",
       "0        NaN         NaN                                            NaN  \n",
       "1        NaN         NaN                                            NaN  \n",
       "2  37.782794 -122.414054  POINT (-122.41405376568504 37.78279444506034)  \n",
       "\n",
       "[3 rows x 27 columns]"
      ]
     },
     "execution_count": 2,
     "metadata": {},
     "output_type": "execute_result"
    }
   ],
   "source": [
    "#Import Data\n",
    "df = pd.read_csv(\"D:/Downloads/Police_Department_Incident_Reports.csv\")\n",
    "df.head(3)"
   ]
  },
  {
   "cell_type": "markdown",
   "id": "e03b9038",
   "metadata": {},
   "source": [
    "To simplify the process, I figure it will be a good idea to keep only the necessary data and discard the non-essential ones."
   ]
  },
  {
   "cell_type": "code",
   "execution_count": 3,
   "id": "7553b852",
   "metadata": {},
   "outputs": [
    {
     "data": {
      "text/html": [
       "<div>\n",
       "<style scoped>\n",
       "    .dataframe tbody tr th:only-of-type {\n",
       "        vertical-align: middle;\n",
       "    }\n",
       "\n",
       "    .dataframe tbody tr th {\n",
       "        vertical-align: top;\n",
       "    }\n",
       "\n",
       "    .dataframe thead th {\n",
       "        text-align: right;\n",
       "    }\n",
       "</style>\n",
       "<table border=\"1\" class=\"dataframe\">\n",
       "  <thead>\n",
       "    <tr style=\"text-align: right;\">\n",
       "      <th></th>\n",
       "      <th>Incident Date</th>\n",
       "      <th>Incident Time</th>\n",
       "      <th>Incident Year</th>\n",
       "      <th>Incident Day of Week</th>\n",
       "      <th>Police District</th>\n",
       "      <th>Analysis Neighborhood</th>\n",
       "    </tr>\n",
       "  </thead>\n",
       "  <tbody>\n",
       "    <tr>\n",
       "      <th>0</th>\n",
       "      <td>2022/01/01</td>\n",
       "      <td>00:00</td>\n",
       "      <td>2022</td>\n",
       "      <td>Saturday</td>\n",
       "      <td>Taraval</td>\n",
       "      <td>NaN</td>\n",
       "    </tr>\n",
       "    <tr>\n",
       "      <th>1</th>\n",
       "      <td>2022/01/01</td>\n",
       "      <td>00:00</td>\n",
       "      <td>2022</td>\n",
       "      <td>Saturday</td>\n",
       "      <td>Tenderloin</td>\n",
       "      <td>NaN</td>\n",
       "    </tr>\n",
       "    <tr>\n",
       "      <th>2</th>\n",
       "      <td>2022/01/01</td>\n",
       "      <td>00:00</td>\n",
       "      <td>2022</td>\n",
       "      <td>Saturday</td>\n",
       "      <td>Tenderloin</td>\n",
       "      <td>Tenderloin</td>\n",
       "    </tr>\n",
       "    <tr>\n",
       "      <th>3</th>\n",
       "      <td>2022/01/01</td>\n",
       "      <td>00:00</td>\n",
       "      <td>2022</td>\n",
       "      <td>Saturday</td>\n",
       "      <td>Southern</td>\n",
       "      <td>South of Market</td>\n",
       "    </tr>\n",
       "    <tr>\n",
       "      <th>4</th>\n",
       "      <td>2022/01/01</td>\n",
       "      <td>00:00</td>\n",
       "      <td>2022</td>\n",
       "      <td>Saturday</td>\n",
       "      <td>Tenderloin</td>\n",
       "      <td>Castro/Upper Market</td>\n",
       "    </tr>\n",
       "  </tbody>\n",
       "</table>\n",
       "</div>"
      ],
      "text/plain": [
       "  Incident Date Incident Time  Incident Year Incident Day of Week  \\\n",
       "0    2022/01/01         00:00           2022             Saturday   \n",
       "1    2022/01/01         00:00           2022             Saturday   \n",
       "2    2022/01/01         00:00           2022             Saturday   \n",
       "3    2022/01/01         00:00           2022             Saturday   \n",
       "4    2022/01/01         00:00           2022             Saturday   \n",
       "\n",
       "  Police District Analysis Neighborhood  \n",
       "0         Taraval                   NaN  \n",
       "1      Tenderloin                   NaN  \n",
       "2      Tenderloin            Tenderloin  \n",
       "3        Southern       South of Market  \n",
       "4      Tenderloin   Castro/Upper Market  "
      ]
     },
     "execution_count": 3,
     "metadata": {},
     "output_type": "execute_result"
    }
   ],
   "source": [
    "columns_to_keep = [\n",
    "    'Incident Date', \n",
    "    'Incident Time', \n",
    "    'Incident Year', \n",
    "    'Incident Day of Week', \n",
    "    'Police District', \n",
    "    'Analysis Neighborhood'\n",
    "]\n",
    "data = df[columns_to_keep]\n",
    "data.head()"
   ]
  },
  {
   "cell_type": "code",
   "execution_count": 4,
   "id": "289d4a81",
   "metadata": {},
   "outputs": [
    {
     "name": "stderr",
     "output_type": "stream",
     "text": [
      "C:\\Users\\wojci\\AppData\\Local\\Temp/ipykernel_8892/3422802280.py:2: SettingWithCopyWarning: \n",
      "A value is trying to be set on a copy of a slice from a DataFrame.\n",
      "Try using .loc[row_indexer,col_indexer] = value instead\n",
      "\n",
      "See the caveats in the documentation: https://pandas.pydata.org/pandas-docs/stable/user_guide/indexing.html#returning-a-view-versus-a-copy\n",
      "  data['Incident Date'] = pd.to_datetime(data['Incident Date'])\n"
     ]
    }
   ],
   "source": [
    "# Convert 'Incident Date' to datetime for easier manipulation\n",
    "data['Incident Date'] = pd.to_datetime(data['Incident Date'])"
   ]
  },
  {
   "cell_type": "code",
   "execution_count": 41,
   "id": "def42e96",
   "metadata": {},
   "outputs": [
    {
     "name": "stdout",
     "output_type": "stream",
     "text": [
      "Missing Values:\n",
      " Incident Date                0\n",
      "Incident Time                0\n",
      "Incident Year                0\n",
      "Incident Day of Week         0\n",
      "Police District              0\n",
      "Analysis Neighborhood    16282\n",
      "Incident Hour                0\n",
      "Incidents Count          16282\n",
      "dtype: int64\n",
      "\n",
      "Unique Values:\n",
      " Incident Date            730\n",
      "Incident Time             24\n",
      "Incident Year              2\n",
      "Incident Day of Week       7\n",
      "Police District           11\n",
      "Analysis Neighborhood     41\n",
      "Incident Hour             24\n",
      "Incidents Count          251\n",
      "dtype: int64\n",
      "\n",
      "Updated Data Preview:\n",
      "  Incident Date  Incident Time  Incident Year Incident Day of Week  \\\n",
      "0    2022-01-01              0           2022             Saturday   \n",
      "1    2022-01-01              0           2022             Saturday   \n",
      "2    2022-01-01              0           2022             Saturday   \n",
      "3    2022-01-01              0           2022             Saturday   \n",
      "4    2022-01-01              0           2022             Saturday   \n",
      "\n",
      "  Police District Analysis Neighborhood  Incident Hour  Incidents Count_x  \\\n",
      "0         Taraval                   NaN              0                NaN   \n",
      "1      Tenderloin                   NaN              0                NaN   \n",
      "2      Tenderloin            Tenderloin              0             3598.0   \n",
      "3        Southern       South of Market              0             2808.0   \n",
      "4      Tenderloin   Castro/Upper Market              0              953.0   \n",
      "\n",
      "   Incidents Count_y  \n",
      "0                NaN  \n",
      "1                NaN  \n",
      "2              208.0  \n",
      "3              238.0  \n",
      "4               77.0  \n"
     ]
    }
   ],
   "source": [
    "# Explanatory Data Analysis (EDA)\n",
    "\n",
    "# First, convert 'Incident Time' to datetime format to easily extract the hour\n",
    "data['Incident Time'] = pd.to_datetime(data['Incident Time'], format='%H:%M').dt.hour\n",
    "\n",
    "# 1. Check for missing values\n",
    "missing_values = data.isnull().sum()\n",
    "\n",
    "# 2. Get the number of unique values in each column\n",
    "unique_values = data.nunique()\n",
    "\n",
    "# 3. Count of incidents by day of the week in each Analysis Neighborhood\n",
    "incidents_by_day_neighborhood = data.groupby(['Analysis Neighborhood', 'Incident Day of Week']).size().reset_index(name='Daily Incidents Count')\n",
    "\n",
    "# 4. Count of incidents by hour of the day in each Analysis Neighborhood\n",
    "incidents_by_hour_neighborhood = data.groupby(['Analysis Neighborhood', 'Incident Time']).size().reset_index(name='Hourly Incidents Count')\n",
    "\n",
    "# 5. Count of incidents by day of the week and hour of the day in each Analysis Neighborhood\n",
    "incidents_by_day_hour_neighborhood = data.groupby(['Analysis Neighborhood', 'Incident Day of Week', 'Incident Time']).size().reset_index(name='Incidents Count')\n",
    "\n",
    "# Merging the detailed counts back into the original data\n",
    "data = data.merge(incidents_by_day_hour_neighborhood, how='left', on=['Analysis Neighborhood', 'Incident Day of Week', 'Incident Time'])\n",
    "\n",
    "# Show the EDA results and a preview of the updated dataset\n",
    "print(\"Missing Values:\\n\", missing_values)\n",
    "print(\"\\nUnique Values:\\n\", unique_values)\n",
    "print(\"\\nUpdated Data Preview:\")\n",
    "print(data.head())"
   ]
  },
  {
   "cell_type": "markdown",
   "id": "81bbcff3",
   "metadata": {},
   "source": [
    "**Missing Values**: The 'Analysis Neighborhood' column has 16,282 missing values. There are no missing values in the other columns of interest. <br/>\n",
    "**Unique Values**:\n",
    "- There are 730 unique incident dates and 1,440 unique incident times, reflecting the diversity of incidents reported.\n",
    "- The dataset spans 2 unique years.\n",
    "- Incidents are distributed across 7 days of the week and 11 police districts.\n",
    "- There are 41 unique analysis neighborhoods identified."
   ]
  },
  {
   "cell_type": "code",
   "execution_count": 7,
   "id": "8cc9b200",
   "metadata": {},
   "outputs": [
    {
     "name": "stderr",
     "output_type": "stream",
     "text": [
      "C:\\Users\\wojci\\AppData\\Local\\Temp/ipykernel_8892/1060512541.py:2: SettingWithCopyWarning: \n",
      "A value is trying to be set on a copy of a slice from a DataFrame.\n",
      "Try using .loc[row_indexer,col_indexer] = value instead\n",
      "\n",
      "See the caveats in the documentation: https://pandas.pydata.org/pandas-docs/stable/user_guide/indexing.html#returning-a-view-versus-a-copy\n",
      "  data['Incident Date'] = pd.to_datetime(data['Incident Date'])\n",
      "C:\\Users\\wojci\\AppData\\Local\\Temp/ipykernel_8892/1060512541.py:3: SettingWithCopyWarning: \n",
      "A value is trying to be set on a copy of a slice from a DataFrame.\n",
      "Try using .loc[row_indexer,col_indexer] = value instead\n",
      "\n",
      "See the caveats in the documentation: https://pandas.pydata.org/pandas-docs/stable/user_guide/indexing.html#returning-a-view-versus-a-copy\n",
      "  data['Incident Hour'] = pd.to_datetime(data['Incident Time'], format='%H:%M').dt.hour\n",
      "C:\\Users\\wojci\\AppData\\Local\\Temp/ipykernel_8892/1060512541.py:13: SettingWithCopyWarning: \n",
      "A value is trying to be set on a copy of a slice from a DataFrame.\n",
      "Try using .loc[row_indexer,col_indexer] = value instead\n",
      "\n",
      "See the caveats in the documentation: https://pandas.pydata.org/pandas-docs/stable/user_guide/indexing.html#returning-a-view-versus-a-copy\n",
      "  data['Incident Day of Week'] = pd.Categorical(data['Incident Day of Week'], categories=weekdays, ordered=True)\n"
     ]
    },
    {
     "data": {
      "image/png": "[encoded data removed]",
      "text/plain": [
       "<Figure size 1296x864 with 3 Axes>"
      ]
     },
     "metadata": {
      "needs_background": "light"
     },
     "output_type": "display_data"
    }
   ],
   "source": [
    "# Convert 'Incident Time' to hour for analysis and 'Incident Date' to datetime\n",
    "data['Incident Date'] = pd.to_datetime(data['Incident Date'])\n",
    "data['Incident Hour'] = pd.to_datetime(data['Incident Time'], format='%H:%M').dt.hour\n",
    "\n",
    "# Number of incidents every hour in a day\n",
    "incidents_by_hour = data.groupby('Incident Hour').size()\n",
    "\n",
    "# Number of incidents every day in the dataset\n",
    "incidents_by_date = data.groupby(data['Incident Date'].dt.date).size()\n",
    "\n",
    "# Number of incidents every weekday\n",
    "weekdays = [\"Monday\", \"Tuesday\", \"Wednesday\", \"Thursday\", \"Friday\", \"Saturday\", \"Sunday\"]\n",
    "data['Incident Day of Week'] = pd.Categorical(data['Incident Day of Week'], categories=weekdays, ordered=True)\n",
    "incidents_by_weekday = data.groupby('Incident Day of Week').size()\n",
    "\n",
    "# Plotting\n",
    "plt.figure(figsize=(18, 12))\n",
    "\n",
    "plt.subplot(3, 1, 1)\n",
    "sns.barplot(x=incidents_by_hour.index, y=incidents_by_hour.values, color='skyblue')\n",
    "plt.title('Number of Incidents Every Hour in a Day')\n",
    "plt.xlabel('Hour of Day')\n",
    "plt.ylabel('Incidents Count')\n",
    "\n",
    "plt.subplot(3, 1, 2)\n",
    "plt.plot(incidents_by_date.index, incidents_by_date.values, color='green')\n",
    "plt.title('Number of Incidents Every Day in the Dataset')\n",
    "plt.xlabel('Date')\n",
    "plt.ylabel('Incidents Count')\n",
    "plt.xticks(rotation=45)\n",
    "\n",
    "plt.subplot(3, 1, 3)\n",
    "sns.barplot(x=incidents_by_weekday.index, y=incidents_by_weekday.values, palette='viridis')\n",
    "plt.title('Number of Incidents Every Weekday')\n",
    "plt.xlabel('Day of Week')\n",
    "plt.ylabel('Incidents Count')\n",
    "\n",
    "plt.tight_layout()\n",
    "plt.show()"
   ]
  },
  {
   "cell_type": "markdown",
   "id": "c88867b1",
   "metadata": {},
   "source": [
    "From the above charts, we can read that: <br/>\n",
    "- The highest number of reported incidents occurs between 12 and 7 pm and at midnight.\n",
    "- In the analyzed time period, the number of reports in the study area has been declining since August 2023, and that there are peaks in early July which may be related to the Independence Day celebration on July 4th.\n",
    "- There are no significant differences for the day on which the events happen."
   ]
  },
  {
   "cell_type": "markdown",
   "id": "74f33d88",
   "metadata": {},
   "source": [
    "In the realm of data science, the division of data into training and testing sets is a ritual as sacred as any. Traditionally, this split follows a random pattern, with a general rule of thumb allocating 70% for training purposes and the remaining 30% for testing. Yet, when the whispers of time echo through our datasets, we're nudged towards a chronological separation, embarking on a quest to peer into the future. In this tale, the year 2022 becomes our crystal ball, offering insights to predict the unfolding mysteries of 2023.<br/><br/>\n",
    "\n",
    "Imagine the stage of testing as the realm where the enchantment of machine learning reveals its power. Reflecting on my days in the halls of demography graduate school, I recall the crafting of predictions, much like casting spells into the void, with their potency unknown until the future unfurls. These predictions, if cloaked in the guise of reason and intuition, were heralded with accolades, their accuracy a question left unasked.<br/><br/>\n",
    "\n",
    "As we venture further, armed with our data now segmented into realms of training and testing, we stand ready to summon an array of models from the vast arsenal of machine learning. These models, each with its unique alchemy of tuning and tweaking (known to the initiated as hyperparameters), await our command. For the sake of our journey, we shall invoke them in their most primal form, unadorned with the complexities of optimization."
   ]
  },
  {
   "cell_type": "code",
   "execution_count": 59,
   "id": "f2e41a09",
   "metadata": {},
   "outputs": [
    {
     "name": "stderr",
     "output_type": "stream",
     "text": [
      "D:\\programfiles\\lib\\site-packages\\pandas\\core\\frame.py:5034: SettingWithCopyWarning: \n",
      "A value is trying to be set on a copy of a slice from a DataFrame\n",
      "\n",
      "See the caveats in the documentation: https://pandas.pydata.org/pandas-docs/stable/user_guide/indexing.html#returning-a-view-versus-a-copy\n",
      "  return super().rename(\n",
      "D:\\programfiles\\lib\\site-packages\\sklearn\\preprocessing\\_encoders.py:975: FutureWarning: `sparse` was renamed to `sparse_output` in version 1.2 and will be removed in 1.4. `sparse_output` is ignored unless you leave `sparse` to its default value.\n",
      "  warnings.warn(\n"
     ]
    }
   ],
   "source": [
    "# Drop rows with missing 'Analysis Neighborhood' or 'Incidents Count' as they cannot be used for prediction\n",
    "data_clean = data.dropna(subset=['Analysis Neighborhood', 'Incidents Count_x'])\n",
    "data_clean.rename(columns={'Incidents Count_y': 'Total Incidents'}, inplace=True)  # Rename for clarity\n",
    "\n",
    "# Initialize OneHotEncoder with handle_unknown='ignore' to deal with unseen categories in the test set\n",
    "encoder = OneHotEncoder(sparse=False, handle_unknown='ignore')\n",
    "# Fit the encoder on the data_clean to prepare for handling both known and unknown categories\n",
    "encoder.fit(data_clean[['Incident Day of Week', 'Analysis Neighborhood', 'Incident Time']])  # Now includes 'Incident Time'\n",
    "\n",
    "# Transform 'Incident Day of Week', 'Analysis Neighborhood', and 'Incident Time' using the fitted encoder\n",
    "encoded_features = encoder.transform(data_clean[['Incident Day of Week', 'Analysis Neighborhood', 'Incident Time']])\n",
    "encoded_df = pd.DataFrame(encoded_features, columns=encoder.get_feature_names_out(['Incident Day of Week', 'Analysis Neighborhood', 'Incident Time']))\n",
    "\n",
    "# Concatenate encoded features with the 'Incident Year' and 'Incidents Count'\n",
    "data_prepared = pd.concat([data_clean[['Incident Year']].reset_index(drop=True), encoded_df, data_clean['Total Incidents'].reset_index(drop=True)], axis=1)\n",
    "\n",
    "# Split the dataset based on the year\n",
    "data_train = data_prepared[data_prepared['Incident Year'] == 2022]\n",
    "data_test = data_prepared[data_prepared['Incident Year'] == 2023]\n",
    "\n",
    "# Separate features and target variable\n",
    "X_train = data_train.drop(['Total Incidents', 'Incident Year'], axis=1)\n",
    "y_train = data_train['Total Incidents']\n",
    "X_test = data_test.drop(['Total Incidents', 'Incident Year'], axis=1)\n",
    "y_test = data_test['Total Incidents']"
   ]
  },
  {
   "cell_type": "markdown",
   "id": "7e851fcd",
   "metadata": {},
   "source": [
    "## 1. Linear Regression\n",
    "\n",
    "Our first ally is a venerable technique, born in the early 19th century—a time of discovery and intellectual fervor. Linear Regression, with its simplicity and swiftness, seeks to chart a course through the data, drawing a line that strives for harmony among the scattered points. Its value lies not just in its predictive capabilities, but in the transparency of its wisdom. By consulting this model, trained with the essence of 2022, we can predict the dance of crime numbers in 2023, achieving a vision that aligns with the threads of reality at an astonishing accuracy of 84%. This mark sets a foundation upon which we aim to build, exploring newer magics to enhance our foresight.\n",
    "\n",
    "Thus, our expedition into the future begins with the hope of unveiling deeper truths hidden within the folds of time and data."
   ]
  },
  {
   "cell_type": "code",
   "execution_count": 58,
   "id": "153f3844",
   "metadata": {},
   "outputs": [
    {
     "name": "stdout",
     "output_type": "stream",
     "text": [
      "RMSE: 29.94985414351958, R^2: 0.8439623508581918\n"
     ]
    }
   ],
   "source": [
    "# Linear Regression model\n",
    "lr_model = LinearRegression()\n",
    "lr_model.fit(X_train, y_train)\n",
    "\n",
    "# Predictions\n",
    "predictions = lr_model.predict(X_test)\n",
    "\n",
    "# Evaluate the model\n",
    "rmse = sqrt(mean_squared_error(y_test, predictions))\n",
    "r2 = r2_score(y_test, predictions)\n",
    "\n",
    "print(f'RMSE: {rmse}, R^2: {r2}')"
   ]
  },
  {
   "cell_type": "markdown",
   "id": "c9733949",
   "metadata": {},
   "source": [
    "## 2. Random Forest Regressor\n",
    "\n",
    "Venturing deeper into the enchanted forest of machine learning, we stumble upon the mystical realm of the Random Forest Regressor. Imagine a gathering of wise old trees, each a Decision Tree, rooted in the fertile ground of our dataset. These aren't ordinary trees; they're conjurers of predictions, working in unison to unveil the secrets of future crimes.<br/>\n",
    "\n",
    "Let's demystify the magic of a single Decision Tree first. It's akin to a sage, pondering over the data, seeking the paths it may naturally divide along, and choosing outcomes with the wisdom of ages. Picture this: our sage discerns that Wednesdays are cloaked in shadows, bearing the weight of increased crime, and the Tenderloin district whispers tales of mischief more than any other place. Guided by these insights, it queries the fabric of reality: \"Did the event occur on a Wednesday?\" A \"yes\" conjures a vision of higher crime rates; a \"no\" paints a calmer picture. \"Was it in the Tenderloin?\" Again, affirmation brings predictions of heightened activity, while denial suggests tranquility. This process of inquiry and prediction continues, weaving through the data to forecast the outcome for each variable presented.<br/>\n",
    "\n",
    "Now, imagine not one, but an entire assembly of these sages—this is the Random Forest. Each tree, drawing from different shards of the same reality, offers its prophecy. Together, they form a chorus, their voices harmonizing to produce a prediction more accurate and robust than any could alone.<br/>\n",
    "\n",
    "Let's embark on this journey with the Random Forest Regressor, guiding us through the tangled paths of data, and see how close we can come to capturing the essence of tomorrow's tales. The adventure promises not only to illuminate the patterns of crime but to showcase the power of unity in diversity, as the forest's collective wisdom charts a course through the unknown.<br/>"
   ]
  },
  {
   "cell_type": "code",
   "execution_count": 47,
   "id": "9d0fc9d0",
   "metadata": {},
   "outputs": [
    {
     "name": "stdout",
     "output_type": "stream",
     "text": [
      "Random Forest RMSE: 0.2602218843465641, R^2: 0.9999882204795624\n"
     ]
    }
   ],
   "source": [
    "# Initialize and train the Random Forest model\n",
    "rf_model = RandomForestRegressor(n_estimators=100, random_state=42)\n",
    "rf_model.fit(X_train, y_train)\n",
    "\n",
    "# Predict and evaluate\n",
    "predictions_rf = rf_model.predict(X_test)\n",
    "rmse_rf = sqrt(mean_squared_error(y_test, predictions_rf))\n",
    "r2_rf = r2_score(y_test, predictions_rf)\n",
    "print(f'Random Forest RMSE: {rmse_rf}, R^2: {r2_rf}')"
   ]
  },
  {
   "cell_type": "markdown",
   "id": "9151f6e7",
   "metadata": {},
   "source": [
    "Achieving an accuracy of 0.9999882204795624 is like hitting the bullseye from a thousand leagues away—a feat of precision so extraordinary it borders on the mythical. This level of accuracy, while impressive, beckons us to tread carefully on our path, for it whispers the cautionary tale of overfitting.<br/>\n",
    "\n",
    "Overfitting is akin to memorizing the map of the stars without understanding the dance of the cosmos—it means our model might perform spectacularly on known data but could falter when faced with the unforeseen. As we wield this powerful tool, we must balance our ambition with humility, ensuring that our journey through the realms of prediction remains both enlightened and grounded."
   ]
  },
  {
   "cell_type": "markdown",
   "id": "359625e0",
   "metadata": {},
   "source": [
    "## 3. K-Nearest Neighbors\n",
    "\n",
    "Venturing further into the labyrinth of predictive models, we encounter the enigmatic K-Nearest Neighbors (KNN), a model that subtly shifts the narrative towards the mystical. KNN operates on a principle both simple and profound: it seeks guidance from the company one keeps. Yet, as we delve into its workings, the clarity of its methodology contrasts with the opacity of its decisions.\n",
    "\n",
    "Imagine wandering through a dense fog, where silhouettes of familiarity guide your steps. You're seeking the path to a destination known only as \"Wednesday, Tenderloin, 10pm.\" As you pause, uncertain, two figures emerge from the mist—\"Wednesday, Tenderloin, 11pm\" and \"Wednesday, Tenderloin, 9pm.\" They whisper tales of nights similar to yours, their voices blending to offer a vision of what lies ahead. This confluence of past journeys illuminates your path, providing an insight grounded in the experiences of those nearest to you.\n",
    "\n",
    "KNN embodies this journey of connection, drawing from the essence of its closest kin to forecast the unseen. It's a dance of shadows and light, where the past's echo shapes the future's whisper, and the path forward is paved with the wisdom of proximity. Let us step forward, guided by these spectral figures, to uncover what tales the night holds."
   ]
  },
  {
   "cell_type": "code",
   "execution_count": 48,
   "id": "924a874b",
   "metadata": {},
   "outputs": [
    {
     "name": "stdout",
     "output_type": "stream",
     "text": [
      "KNN RMSE: 6.8569401263307075, R^2: 0.9918209909299609\n"
     ]
    }
   ],
   "source": [
    "# Initialize and train the KNN model\n",
    "knn_model = KNeighborsRegressor(n_neighbors=5)\n",
    "knn_model.fit(X_train, y_train)\n",
    "\n",
    "# Predict and evaluate\n",
    "predictions_knn = knn_model.predict(X_test)\n",
    "rmse_knn = sqrt(mean_squared_error(y_test, predictions_knn))\n",
    "r2_knn = r2_score(y_test, predictions_knn)\n",
    "print(f'KNN RMSE: {rmse_knn}, R^2: {r2_knn}')"
   ]
  },
  {
   "cell_type": "markdown",
   "id": "0134ceb5",
   "metadata": {},
   "source": [
    "In the realm of our quest, achieving an accuracy of 0.9918209909299609 is like discovering an ancient map that reveals paths through forests and across seas with near-perfect precision. This map, with its intricate details, guides us through the terrain of prediction with a sureness that is both exhilarating and daunting.<br/>\n",
    "\n",
    "Yet, in this landscape of high accuracy, a shadow looms—the specter of overfitting. It whispers of a map so finely drawn to the trails once traveled that it may falter when new, uncharted paths emerge. Just as a navigator must be wary of relying too heavily on a single guide, we must tread lightly, ensuring our map is not so tailored to familiar journeys that it loses its way in the face of the unknown.<br/>\n",
    "\n",
    "Let this be a beacon as we navigate the vast oceans of data, a reminder to balance our sail and compass, so our voyage remains true not just in the waters we know but in the unexplored depths that lie ahead."
   ]
  },
  {
   "cell_type": "markdown",
   "id": "7d06a59e",
   "metadata": {},
   "source": [
    "## 4. XGBoost\n",
    "In the grand tournament of algorithms, where data warriors vie for supremacy, XGBoost emerges as a champion heralded for its conquests in the arenas of __[Kaggle](https://www.kaggle.com)__. Picture it not as a lone hero, but as a battalion of trees, an army where each unit learns from the last, marching forward with increasing precision and strength.<br/>\n",
    "\n",
    "Imagine a forest where each tree is not planted by chance but chosen for its ability to shield the weakest among them, correcting the missteps of its predecessors. As one tree rises, it casts light on its shadows, allowing the next to grow in a spot better suited to the sun. With each iteration, the forest becomes denser, stronger, and more adept at protecting its domain.<br/>\n",
    "\n",
    "XGBoost crafts its legion with care, each tree building on the lessons of the last, aiming to fortify where previous defenses were weak. This iterative march, this relentless quest for improvement, is what sets XGBoost apart, making it a legend in the lore of machine learning.\n"
   ]
  },
  {
   "cell_type": "code",
   "execution_count": 49,
   "id": "8b6820c7",
   "metadata": {},
   "outputs": [
    {
     "name": "stdout",
     "output_type": "stream",
     "text": [
      "XGBoost RMSE: 16.05753176905329, R^2: 0.9551463742518361\n"
     ]
    }
   ],
   "source": [
    "# Initialize and train the XGBoost model\n",
    "xgb_model = XGBRegressor(n_estimators=100, learning_rate=0.1, random_state=42)\n",
    "xgb_model.fit(X_train, y_train)\n",
    "\n",
    "# Predict and evaluate\n",
    "predictions_xgb = xgb_model.predict(X_test)\n",
    "rmse_xgb = sqrt(mean_squared_error(y_test, predictions_xgb))\n",
    "r2_XGB = r2_score(y_test, predictions_xgb)\n",
    "print(f'XGBoost RMSE: {rmse_xgb}, R^2: {r2_XGB}')"
   ]
  },
  {
   "cell_type": "markdown",
   "id": "281da5f7",
   "metadata": {},
   "source": [
    "Navigating the seas of prediction with an accuracy of 0.9551463742518361 is akin to steering a ship with a compass so precise, it can navigate through storms and mists with a confidence that borders on the audacious. This level of accuracy, while a testament to the skill of our navigation, casts a shadow of caution—overfitting, the siren call that can lead even the most stalwart ship astray.<br/>\n",
    "\n",
    "This tale reminds us that while our compass is true under the stars we know, it is in the uncharted waters, under unfamiliar constellations, that our true test awaits. Overfitting whispers of a compass too finely tuned to the currents we've sailed before, risking misguidance in new waters.<br/>\n",
    "\n",
    "Thus, as we chart our course with this remarkable tool, we do so with an eye to the horizon, ensuring our journey remains steadfast not only in the realms we know but in the adventures that lie beyond the map's edge."
   ]
  },
  {
   "cell_type": "markdown",
   "id": "34c938b8",
   "metadata": {},
   "source": [
    "## 5. Deep Learning — Multilayer Perceptron\n",
    "\n",
    "In our journey through the mystical landscape of machine learning, we find ourselves before the enigmatic Multilayer Perceptron (MLP) Regressor, a spellcaster of deep learning whose insights are veiled in shadow. This arcane model, structured with four hidden layers and a hundred nodes each, holds the power to predict with remarkable precision but cloaks its wisdom in mystery.<br/>\n",
    "\n",
    "As we wield this potent form of magic, we stand at a crossroads. The might of our predictions impacts lives, yet the reasons behind these forecasts remain locked within the model's depths, a riddle wrapped in an enigma. This is the paradox of our adventure: the stronger the spell, the harder it becomes to trace its origins.<br/>\n",
    "\n",
    "In choosing the path of the MLP Regressor, we embrace the power of prediction but also confront the challenge of the unknown. It's a reminder that with great power comes the responsibility to seek understanding, to ensure that our interventions are as transparent as they are transformative. As guardians of this powerful tool, our mission is to navigate its mysteries with care, ensuring that our quest enhances the realm of knowledge without losing sight of the light."
   ]
  },
  {
   "cell_type": "code",
   "execution_count": 63,
   "id": "2172186f",
   "metadata": {},
   "outputs": [
    {
     "name": "stdout",
     "output_type": "stream",
     "text": [
      "MLP RMSE: 0.763864972978732, R^2: 0.9998984983348347\n"
     ]
    }
   ],
   "source": [
    "# Initialize and train the MLP model\n",
    "mlp_model = MLPRegressor(hidden_layer_sizes=(100,100, 100, 100), activation='relu', solver='adam', max_iter=200, random_state=444)\n",
    "mlp_model.fit(X_train, y_train)\n",
    "\n",
    "# Predict and evaluate\n",
    "predictions_mlp = mlp_model.predict(X_test)\n",
    "rmse_mlp = sqrt(mean_squared_error(y_test, predictions_mlp))\n",
    "r2_mlp = r2_score(y_test, predictions_mlp)\n",
    "print(f'MLP RMSE: {rmse_mlp}, R^2: {r2_mlp}')"
   ]
  },
  {
   "cell_type": "markdown",
   "id": "dc2c9839",
   "metadata": {},
   "source": [
    "In our exploration of predictive modeling, we embarked on an adventure with five distinct models, revealing an uncanny ability to forecast crime patterns with impressive accuracy. This journey hinted at a curious fact: the broader strokes of Analysis Neighborhoods led us to wonder if more granular guides like zip codes might unveil a nuanced, yet still insightful, landscape.<br/>\n",
    "\n",
    "Our curiosity didn't stop there. We envisaged augmenting our arsenal with variables uncharted—weather patterns, proximity to liquor stores, shelters, and demographic tapestries, using historical data as our guide, perhaps from as far back as 2018, to refine our foresight.<br/>\n",
    "\n",
    "However, our quest for simplicity in prediction brought us face-to-face with a paradox: the ease of prediction came at the expense of explainability. As we pondered deploying more guardians based on these forecasts, we realized that their mere presence might illuminate more shadows of crime, irrespective of the actual prevalence. This phenomenon, a self-fulfilling prophecy, highlights the intricacies of predictive policing and the potential for perpetuating biases.<br/>\n",
    "\n",
    "This narrative is a call to arms for the wielders of data. While we revel in the power of our models to predict and perhaps prevent, we must tread carefully, ensuring our tools illuminate paths to a better future rather than casting long shadows over it. The quest for accurate models is not just technical but ethical, urging us to navigate the delicate balance between foresight and oversight.<br/>"
   ]
  }
 ],
 "metadata": {
  "kernelspec": {
   "display_name": "Python 3 (ipykernel)",
   "language": "python",
   "name": "python3"
  },
  "language_info": {
   "codemirror_mode": {
    "name": "ipython",
    "version": 3
   },
   "file_extension": ".py",
   "mimetype": "text/x-python",
   "name": "python",
   "nbconvert_exporter": "python",
   "pygments_lexer": "ipython3",
   "version": "3.9.7"
  }
 },
 "nbformat": 4,
 "nbformat_minor": 5
}
